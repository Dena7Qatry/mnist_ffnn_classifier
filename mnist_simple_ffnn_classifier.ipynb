{
  "nbformat": 4,
  "nbformat_minor": 0,
  "metadata": {
    "colab": {
      "provenance": [],
      "include_colab_link": true
    },
    "kernelspec": {
      "name": "python2",
      "display_name": "Python 2"
    },
    "accelerator": "GPU"
  },
  "cells": [
    {
      "cell_type": "markdown",
      "metadata": {
        "id": "view-in-github",
        "colab_type": "text"
      },
      "source": [
        "<a href=\"https://colab.research.google.com/github/Dena7Qatry/mnist_ffnn_classifier/blob/main/mnist_simple_ffnn_classifier.ipynb\" target=\"_parent\"><img src=\"https://colab.research.google.com/assets/colab-badge.svg\" alt=\"Open In Colab\"/></a>"
      ]
    },
    {
      "metadata": {
        "id": "ptkWMWLtxeNh"
      },
      "cell_type": "markdown",
      "source": [
        "# **Tensorflow + Keras + Colaboratory = Deep Learning made easy**\n",
        "\n",
        "\n",
        "---\n",
        "\n",
        "This following code builds a **simple feedforward neural network** with **one hidden layer** of **512 neurons** to classify MNIST digits.\n",
        "\n"
      ]
    },
    {
      "cell_type": "markdown",
      "source": [
        "# **Key Steps**"
      ],
      "metadata": {
        "id": "NrgYK0Me7kU6"
      }
    },
    {
      "metadata": {
        "id": "WTRrKJor6xB_"
      },
      "cell_type": "markdown",
      "source": [
        "# **1. Import Required Packages:**\n",
        "\n",
        "\n",
        "The tensorflow library is imported as tf. The mnist dataset is loaded from TensorFlow's datasets module."
      ]
    },
    {
      "metadata": {
        "id": "elMZ3yjjwB-I"
      },
      "cell_type": "code",
      "source": [
        "import tensorflow as tf\n",
        "mnist = tf.keras.datasets.mnist # the mnist dataset is loaded from TensorFlow's datasets module."
      ],
      "execution_count": null,
      "outputs": []
    },
    {
      "metadata": {
        "id": "X5btpg-x65ZM"
      },
      "cell_type": "markdown",
      "source": [
        "# **2. Load and Preprocess Data:**\n",
        "\n",
        "The MNIST dataset is split into training and test sets (x_train, y_train, x_test, y_test).\n",
        "\n",
        "Pixel values of images are normalized to a range of [0, 1] by dividing by 255.0."
      ]
    },
    {
      "metadata": {
        "id": "2R2OW-d12-_Q",
        "colab": {
          "base_uri": "https://localhost:8080/"
        },
        "outputId": "74137a7e-5e3c-43a8-841b-358304e68fda"
      },
      "cell_type": "code",
      "source": [
        "(x_train, y_train),(x_test, y_test) = mnist.load_data()\n",
        "x_train, x_test = x_train / 255.0, x_test / 255.0\n"
      ],
      "execution_count": null,
      "outputs": [
        {
          "output_type": "stream",
          "name": "stdout",
          "text": [
            "Downloading data from https://storage.googleapis.com/tensorflow/tf-keras-datasets/mnist.npz\n",
            "\u001b[1m11490434/11490434\u001b[0m \u001b[32m━━━━━━━━━━━━━━━━━━━━\u001b[0m\u001b[37m\u001b[0m \u001b[1m2s\u001b[0m 0us/step\n"
          ]
        }
      ]
    },
    {
      "metadata": {
        "id": "3___UbKB7AND"
      },
      "cell_type": "markdown",
      "source": [
        "# **3. Define the Model:**\n",
        "\n",
        "A sequential model is defined with the following layers:\n",
        "\n",
        "- **Flatten Layer:** Converts the 2D input images into a 1D vector.\n",
        "- **Dense Layer:** A fully connected layer with 512 neurons and ReLU activation.\n",
        "- **Dropout Layer:** Prevents overfitting by randomly dropping 20% of the connections.\n",
        "- **Dense Output Layer:** Outputs 10 probabilities (one for each digit class) using the softmax activation function."
      ]
    },
    {
      "metadata": {
        "id": "d4KFklpo3V7K"
      },
      "cell_type": "code",
      "source": [
        "model = tf.keras.models.Sequential([\n",
        "  tf.keras.layers.Flatten(),\n",
        "  tf.keras.layers.Dense(512, activation=tf.nn.relu),\n",
        "  tf.keras.layers.Dropout(0.2),\n",
        "  tf.keras.layers.Dense(10, activation=tf.nn.softmax)\n",
        "])\n",
        "\n"
      ],
      "execution_count": null,
      "outputs": []
    },
    {
      "metadata": {
        "id": "eOSjgX-A7BdX"
      },
      "cell_type": "markdown",
      "source": [
        "# **4. Compile the Model:**\n",
        "\n",
        "Specifies the optimizer (adam), loss function (sparse_categorical_crossentropy for multi-class classification), and evaluation metric (accuracy)."
      ]
    },
    {
      "metadata": {
        "id": "PNJDJhrK3WgD"
      },
      "cell_type": "code",
      "source": [
        "model.compile(optimizer='adam',\n",
        "              loss='sparse_categorical_crossentropy',\n",
        "              metrics=['accuracy'])"
      ],
      "execution_count": null,
      "outputs": []
    },
    {
      "metadata": {
        "id": "gzWQoKAi7CzK"
      },
      "cell_type": "markdown",
      "source": [
        "# **5. Train the Model:**\n",
        "\n",
        "The model is trained on the training dataset for 5 epochs."
      ]
    },
    {
      "metadata": {
        "id": "mWceow_h3aVJ",
        "colab": {
          "base_uri": "https://localhost:8080/"
        },
        "outputId": "1de2a928-f00a-4238-95ae-ab4a4d683a0c"
      },
      "cell_type": "code",
      "source": [
        "model.fit(x_train, y_train, epochs=5)"
      ],
      "execution_count": null,
      "outputs": [
        {
          "output_type": "stream",
          "name": "stdout",
          "text": [
            "Epoch 1/5\n",
            "\u001b[1m1875/1875\u001b[0m \u001b[32m━━━━━━━━━━━━━━━━━━━━\u001b[0m\u001b[37m\u001b[0m \u001b[1m9s\u001b[0m 3ms/step - accuracy: 0.8866 - loss: 0.3733\n",
            "Epoch 2/5\n",
            "\u001b[1m1875/1875\u001b[0m \u001b[32m━━━━━━━━━━━━━━━━━━━━\u001b[0m\u001b[37m\u001b[0m \u001b[1m4s\u001b[0m 2ms/step - accuracy: 0.9688 - loss: 0.1009\n",
            "Epoch 3/5\n",
            "\u001b[1m1875/1875\u001b[0m \u001b[32m━━━━━━━━━━━━━━━━━━━━\u001b[0m\u001b[37m\u001b[0m \u001b[1m6s\u001b[0m 2ms/step - accuracy: 0.9794 - loss: 0.0665\n",
            "Epoch 4/5\n",
            "\u001b[1m1875/1875\u001b[0m \u001b[32m━━━━━━━━━━━━━━━━━━━━\u001b[0m\u001b[37m\u001b[0m \u001b[1m5s\u001b[0m 2ms/step - accuracy: 0.9821 - loss: 0.0565\n",
            "Epoch 5/5\n",
            "\u001b[1m1875/1875\u001b[0m \u001b[32m━━━━━━━━━━━━━━━━━━━━\u001b[0m\u001b[37m\u001b[0m \u001b[1m4s\u001b[0m 2ms/step - accuracy: 0.9870 - loss: 0.0404\n"
          ]
        },
        {
          "output_type": "execute_result",
          "data": {
            "text/plain": [
              "<keras.src.callbacks.history.History at 0x7b38cd43d2d0>"
            ]
          },
          "metadata": {},
          "execution_count": 5
        }
      ]
    },
    {
      "metadata": {
        "id": "vXkxW4hy7EAV"
      },
      "cell_type": "markdown",
      "source": [
        "# **6. Evaluate the Model:**\n",
        "\n",
        "The model's performance is evaluated on the test dataset, and the loss and accuracy are printed."
      ]
    },
    {
      "metadata": {
        "id": "IEXCNMLA5Bbc",
        "colab": {
          "base_uri": "https://localhost:8080/"
        },
        "outputId": "3982e33d-a8e9-4b2b-8097-06b117fe01b9"
      },
      "cell_type": "code",
      "source": [
        "loss, accuracy = model.evaluate(x_test, y_test)"
      ],
      "execution_count": null,
      "outputs": [
        {
          "output_type": "stream",
          "name": "stdout",
          "text": [
            "\u001b[1m313/313\u001b[0m \u001b[32m━━━━━━━━━━━━━━━━━━━━\u001b[0m\u001b[37m\u001b[0m \u001b[1m2s\u001b[0m 4ms/step - accuracy: 0.9725 - loss: 0.0853\n"
          ]
        }
      ]
    },
    {
      "metadata": {
        "id": "YJzA9nIk5sr8",
        "colab": {
          "base_uri": "https://localhost:8080/"
        },
        "outputId": "b37b9034-6655-44e9-ab18-b645ff4201c5"
      },
      "cell_type": "code",
      "source": [
        "print(\"loss: {} accuracy: {}\".format(loss, accuracy))"
      ],
      "execution_count": null,
      "outputs": [
        {
          "output_type": "stream",
          "name": "stdout",
          "text": [
            "loss: 0.07225681841373444 accuracy: 0.9789000153541565\n"
          ]
        }
      ]
    }
  ]
}